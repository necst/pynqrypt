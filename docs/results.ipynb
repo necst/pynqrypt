{
 "cells": [
  {
   "cell_type": "code",
   "execution_count": 2,
   "id": "d86082ec",
   "metadata": {},
   "outputs": [],
   "source": [
    "def pretty_print_speed(speed):\n",
    "    speed *= 8 # b/s to bps\n",
    "    if speed > 1024 * 1024:\n",
    "        speed /= 1024 * 1024\n",
    "        return f'{speed:.2f} Mbps'\n",
    "    elif speed > 1024:\n",
    "        speed /= 1024\n",
    "        return f'{speed:.2f} Kbps'\n",
    "    else:\n",
    "        return f'{speed:.2f} bps'"
   ]
  },
  {
   "cell_type": "code",
   "execution_count": 3,
   "id": "1f60a220",
   "metadata": {},
   "outputs": [],
   "source": [
    "import pynq\n",
    "import numpy as np\n",
    "import time\n",
    "\n",
    "class Pynqrypt:\n",
    "    \n",
    "    def __init__(self, file, post_ap=False):\n",
    "        self.overlay = pynq.Overlay(file)\n",
    "        self.ip = self.overlay.pynqrypt_encrypt_0\n",
    "        self.reg_map = self.ip.register_map\n",
    "        self.post_ap = post_ap\n",
    "        if not post_ap:\n",
    "            self.key_mmio = pynq.MMIO(self.ip.mmio.base_addr + self.reg_map.Memory_key.address, 16 * 8)\n",
    "            self.nonce_mmio = pynq.MMIO(self.ip.mmio.base_addr + self.reg_map.Memory_nonce.address, 12 * 8)\n",
    "        self.length = 0\n",
    "        \n",
    "    \n",
    "    def set_key(self, key: bytes):\n",
    "        if not self.post_ap:\n",
    "            for i in range(4):\n",
    "                self.key_mmio.write(4 * i, key[i * 4: (i + 1) * 4])\n",
    "        else:\n",
    "            key = int.from_bytes(key, 'big')\n",
    "            self.reg_map.key_1 = (key) & (2**32 - 1)\n",
    "            self.reg_map.key_2 = (key >> 32) & (2**32 - 1)\n",
    "            self.reg_map.key_3 = (key >> 64) & (2**32 - 1)\n",
    "            self.reg_map.key_4 = (key >> 96) & (2**32 - 1)            \n",
    "\n",
    "    def set_nonce(self, nonce: bytes):\n",
    "        if not self.post_ap:\n",
    "            for i in range(3):\n",
    "                self.nonce_mmio.write(4 * i, nonce[i * 4: (i + 1) * 4])\n",
    "        else:\n",
    "            nonce = int.from_bytes(nonce, 'big')\n",
    "            self.reg_map.nonce_1 = (nonce) & (2**32 - 1)\n",
    "            self.reg_map.nonce_2 = (nonce >> 32) & (2**32 - 1)\n",
    "            self.reg_map.nonce_3 = (nonce >> 64) & (2**32 - 1)\n",
    "            \n",
    "    def set_length(self, length: int):\n",
    "        self.reg_map.plaintext_length_1 = length \n",
    "        self.length = length\n",
    "        \n",
    "    def get_length(self) -> int:\n",
    "        return self.reg_map.plaintext_length_1\n",
    "    \n",
    "    def get_input_array(self):\n",
    "        buff = pynq.allocate(self.length, np.uint8)\n",
    "        self.inbuff = buff\n",
    "        return buff\n",
    "    \n",
    "    def get_output_array(self):\n",
    "        buff = pynq.allocate(self.length, np.uint8)\n",
    "        self.outbuff = buff\n",
    "        return buff\n",
    "    \n",
    "    def prepare(self):\n",
    "        self.inbuff.flush()\n",
    "        self.reg_map.plaintext_1 = self.inbuff.physical_address\n",
    "        self.reg_map.ciphertext_1 = self.outbuff.physical_address\n",
    "    \n",
    "    def run_blocking(self):\n",
    "        if not self.reg_map.CTRL.AP_IDLE:\n",
    "            return\n",
    "        self.reg_map.CTRL.AP_START = 1\n",
    "        while not self.reg_map.CTRL.AP_DONE:\n",
    "            continue\n",
    "            \n",
    "    def run_blocking_timed(self):\n",
    "        if not self.reg_map.CTRL.AP_IDLE:\n",
    "            return\n",
    "        \n",
    "        time_start = time.perf_counter_ns()\n",
    "        self.reg_map.CTRL.AP_START = 1\n",
    "        while not self.reg_map.CTRL.AP_DONE:\n",
    "            continue\n",
    "        time_stop = time.perf_counter_ns()\n",
    "        \n",
    "        return (time_start, time_stop)\n",
    "        \n",
    "    def cleanup(self):\n",
    "        del self.outbuff\n",
    "        del self.inbuff\n",
    "        "
   ]
  },
  {
   "cell_type": "code",
   "execution_count": 4,
   "id": "79ee9d99",
   "metadata": {},
   "outputs": [],
   "source": [
    "from Crypto.Cipher import AES\n",
    "from random import randbytes\n",
    "import numpy as np\n",
    "import time\n",
    "from typing import Tuple"
   ]
  },
  {
   "cell_type": "code",
   "execution_count": 5,
   "id": "e4de112a",
   "metadata": {},
   "outputs": [],
   "source": [
    "class PynqryptTester:\n",
    "    \n",
    "    def __init__(self, file, post_ap=False):\n",
    "        self.file = file\n",
    "        self.pynqrypt = Pynqrypt(file=file, post_ap=post_ap)\n",
    "            \n",
    "    def benchmark_and_validate_size(self, length: int = 65536) -> Tuple[int, int]:\n",
    "        # prepare variables\n",
    "        key = randbytes(16)\n",
    "        nonce = randbytes(12)\n",
    "        \n",
    "        self.pynqrypt.set_key(key)\n",
    "        self.pynqrypt.set_nonce(nonce)\n",
    "        self.pynqrypt.set_length(length)\n",
    "        random_data = randbytes(length)\n",
    "        input_data = np.frombuffer(random_data, np.uint8)\n",
    "        inbuff = self.pynqrypt.get_input_array()\n",
    "        inbuff[:] = input_data[:]\n",
    "        outbuff = self.pynqrypt.get_output_array()\n",
    "        self.pynqrypt.prepare()\n",
    "        \n",
    "        # take time measurement of the following call\n",
    "        start, stop = self.pynqrypt.run_blocking_timed()\n",
    "        \n",
    "        outbuff.invalidate()\n",
    "        \n",
    "        # validate correctness of operation\n",
    "        cipher = AES.new(key, AES.MODE_CTR, nonce=nonce)\n",
    "        start2 = time.perf_counter_ns()\n",
    "        expected_output = cipher.encrypt(random_data)\n",
    "        stop2 = time.perf_counter_ns()\n",
    "        assert bytes(outbuff) == expected_output\n",
    "        \n",
    "        # clear everything\n",
    "        del input_data\n",
    "        del expected_output\n",
    "        self.pynqrypt.cleanup()\n",
    "        \n",
    "        # return time difference\n",
    "        return (stop - start), (stop2 - start2)\n",
    "        \n",
    "    def run_bench_suite(self):\n",
    "        for size in [16, 1024, 256 * 1024, 16 * 1024 * 1024]:\n",
    "            diff_fpga = []\n",
    "            diff_cpu = []\n",
    "            for _ in range(10):\n",
    "                tfpga, tcpu = self.benchmark_and_validate_size(size)\n",
    "                diff_fpga.append(tfpga)\n",
    "                diff_cpu.append(tcpu)\n",
    "            diff_fpga.sort()\n",
    "            diff_cpu.sort()\n",
    "            \n",
    "            res_fpga = sum(diff_fpga[1:-1]) / 8e9\n",
    "            res_cpu = sum(diff_cpu[1:-1]) / 8e9\n",
    "            \n",
    "            print(f'Results for bitstream {self.file} with size {size} b:')\n",
    "            print(f'FPGA: {res_fpga*1000:.2f} ms')\n",
    "            print(f'CPU: {res_cpu*1000:.2f} ms')\n",
    "            print(f'FPGA Throughput: ' + pretty_print_speed(size / res_fpga))\n",
    "            \n",
    "            "
   ]
  },
  {
   "cell_type": "code",
   "execution_count": 5,
   "id": "a2fe74ba",
   "metadata": {},
   "outputs": [
    {
     "data": {
      "application/javascript": [
       "\n",
       "try {\n",
       "require(['notebook/js/codecell'], function(codecell) {\n",
       "  codecell.CodeCell.options_default.highlight_modes[\n",
       "      'magic_text/x-csrc'] = {'reg':[/^%%microblaze/]};\n",
       "  Jupyter.notebook.events.one('kernel_ready.Kernel', function(){\n",
       "      Jupyter.notebook.get_cells().map(function(cell){\n",
       "          if (cell.cell_type == 'code'){ cell.auto_highlight(); } }) ;\n",
       "  });\n",
       "});\n",
       "} catch (e) {};\n"
      ]
     },
     "metadata": {},
     "output_type": "display_data"
    },
    {
     "data": {
      "application/javascript": [
       "\n",
       "try {\n",
       "require(['notebook/js/codecell'], function(codecell) {\n",
       "  codecell.CodeCell.options_default.highlight_modes[\n",
       "      'magic_text/x-csrc'] = {'reg':[/^%%pybind11/]};\n",
       "  Jupyter.notebook.events.one('kernel_ready.Kernel', function(){\n",
       "      Jupyter.notebook.get_cells().map(function(cell){\n",
       "          if (cell.cell_type == 'code'){ cell.auto_highlight(); } }) ;\n",
       "  });\n",
       "});\n",
       "} catch (e) {};\n"
      ]
     },
     "metadata": {},
     "output_type": "display_data"
    }
   ],
   "source": [
    "tester = PynqryptTester('./pynqrypt-v1.xsa')"
   ]
  },
  {
   "cell_type": "code",
   "execution_count": 6,
   "id": "7fe6b60c",
   "metadata": {},
   "outputs": [
    {
     "name": "stdout",
     "output_type": "stream",
     "text": [
      "Results for bitstream ./pynqrypt-v1.xsa with size 16 b:\n",
      "FPGA: 0.16 ms\n",
      "CPU: 0.11 ms\n",
      "FPGA Throughput: 769.69 Kbps\n",
      "Results for bitstream ./pynqrypt-v1.xsa with size 1024 b:\n",
      "FPGA: 0.42 ms\n",
      "CPU: 0.21 ms\n",
      "FPGA Throughput: 18.76 Mbps\n",
      "Results for bitstream ./pynqrypt-v1.xsa with size 262144 b:\n",
      "FPGA: 67.86 ms\n",
      "CPU: 24.52 ms\n",
      "FPGA Throughput: 29.47 Mbps\n",
      "Results for bitstream ./pynqrypt-v1.xsa with size 16777216 b:\n",
      "FPGA: 4333.76 ms\n",
      "CPU: 1641.08 ms\n",
      "FPGA Throughput: 29.54 Mbps\n"
     ]
    }
   ],
   "source": [
    "tester.run_bench_suite()"
   ]
  },
  {
   "cell_type": "code",
   "execution_count": 7,
   "id": "5f11d67c",
   "metadata": {},
   "outputs": [],
   "source": [
    "tester = PynqryptTester('./pynqrypt-v2.xsa')"
   ]
  },
  {
   "cell_type": "code",
   "execution_count": 8,
   "id": "e2a4dc64",
   "metadata": {},
   "outputs": [
    {
     "name": "stdout",
     "output_type": "stream",
     "text": [
      "Results for bitstream ./pynqrypt-v2.xsa with size 16 b:\n",
      "FPGA: 0.16 ms\n",
      "CPU: 0.12 ms\n",
      "FPGA Throughput: 776.53 Kbps\n",
      "Results for bitstream ./pynqrypt-v2.xsa with size 1024 b:\n",
      "FPGA: 0.39 ms\n",
      "CPU: 0.21 ms\n",
      "FPGA Throughput: 19.79 Mbps\n",
      "Results for bitstream ./pynqrypt-v2.xsa with size 262144 b:\n",
      "FPGA: 68.10 ms\n",
      "CPU: 24.29 ms\n",
      "FPGA Throughput: 29.37 Mbps\n",
      "Results for bitstream ./pynqrypt-v2.xsa with size 16777216 b:\n",
      "FPGA: 4348.58 ms\n",
      "CPU: 1640.27 ms\n",
      "FPGA Throughput: 29.43 Mbps\n"
     ]
    }
   ],
   "source": [
    "tester.run_bench_suite()"
   ]
  },
  {
   "cell_type": "code",
   "execution_count": 9,
   "id": "33141acb",
   "metadata": {},
   "outputs": [],
   "source": [
    "tester = PynqryptTester('./pynqrypt-v3.xsa')"
   ]
  },
  {
   "cell_type": "code",
   "execution_count": 10,
   "id": "6ee37374",
   "metadata": {},
   "outputs": [
    {
     "name": "stdout",
     "output_type": "stream",
     "text": [
      "Results for bitstream ./pynqrypt-v3.xsa with size 16 b:\n",
      "FPGA: 0.16 ms\n",
      "CPU: 0.11 ms\n",
      "FPGA Throughput: 806.25 Kbps\n",
      "Results for bitstream ./pynqrypt-v3.xsa with size 1024 b:\n",
      "FPGA: 0.38 ms\n",
      "CPU: 0.20 ms\n",
      "FPGA Throughput: 20.62 Mbps\n",
      "Results for bitstream ./pynqrypt-v3.xsa with size 262144 b:\n",
      "FPGA: 56.50 ms\n",
      "CPU: 24.28 ms\n",
      "FPGA Throughput: 35.40 Mbps\n",
      "Results for bitstream ./pynqrypt-v3.xsa with size 16777216 b:\n",
      "FPGA: 3607.68 ms\n",
      "CPU: 1635.66 ms\n",
      "FPGA Throughput: 35.48 Mbps\n"
     ]
    }
   ],
   "source": [
    "tester.run_bench_suite()"
   ]
  },
  {
   "cell_type": "code",
   "execution_count": 11,
   "id": "51d284b5",
   "metadata": {},
   "outputs": [],
   "source": [
    "tester = PynqryptTester('./pynqrypt-v4.xsa')"
   ]
  },
  {
   "cell_type": "code",
   "execution_count": 12,
   "id": "4919f0e1",
   "metadata": {},
   "outputs": [
    {
     "name": "stdout",
     "output_type": "stream",
     "text": [
      "Results for bitstream ./pynqrypt-v4.xsa with size 16 b:\n",
      "FPGA: 0.16 ms\n",
      "CPU: 0.12 ms\n",
      "FPGA Throughput: 792.63 Kbps\n",
      "Results for bitstream ./pynqrypt-v4.xsa with size 1024 b:\n",
      "FPGA: 0.34 ms\n",
      "CPU: 0.21 ms\n",
      "FPGA Throughput: 22.97 Mbps\n",
      "Results for bitstream ./pynqrypt-v4.xsa with size 262144 b:\n",
      "FPGA: 45.91 ms\n",
      "CPU: 24.58 ms\n",
      "FPGA Throughput: 43.56 Mbps\n",
      "Results for bitstream ./pynqrypt-v4.xsa with size 16777216 b:\n",
      "FPGA: 2928.72 ms\n",
      "CPU: 1638.62 ms\n",
      "FPGA Throughput: 43.71 Mbps\n"
     ]
    }
   ],
   "source": [
    "tester.run_bench_suite()"
   ]
  },
  {
   "cell_type": "code",
   "execution_count": 13,
   "id": "2362cdf4",
   "metadata": {
    "scrolled": true
   },
   "outputs": [],
   "source": [
    "tester = PynqryptTester('./pynqrypt-v5.1.xsa', post_ap=True)"
   ]
  },
  {
   "cell_type": "code",
   "execution_count": 14,
   "id": "173af3c6",
   "metadata": {
    "scrolled": true
   },
   "outputs": [
    {
     "name": "stdout",
     "output_type": "stream",
     "text": [
      "Results for bitstream ./pynqrypt-v5.1.xsa with size 16 b:\n",
      "FPGA: 0.17 ms\n",
      "CPU: 0.12 ms\n",
      "FPGA Throughput: 746.04 Kbps\n",
      "Results for bitstream ./pynqrypt-v5.1.xsa with size 1024 b:\n",
      "FPGA: 0.28 ms\n",
      "CPU: 0.21 ms\n",
      "FPGA Throughput: 27.49 Mbps\n",
      "Results for bitstream ./pynqrypt-v5.1.xsa with size 262144 b:\n",
      "FPGA: 33.08 ms\n",
      "CPU: 24.49 ms\n",
      "FPGA Throughput: 60.46 Mbps\n",
      "Results for bitstream ./pynqrypt-v5.1.xsa with size 16777216 b:\n",
      "FPGA: 2107.78 ms\n",
      "CPU: 1638.61 ms\n",
      "FPGA Throughput: 60.73 Mbps\n"
     ]
    }
   ],
   "source": [
    "tester.run_bench_suite()"
   ]
  },
  {
   "cell_type": "code",
   "execution_count": 15,
   "id": "c8afe35d",
   "metadata": {},
   "outputs": [],
   "source": [
    "tester = PynqryptTester('./pynqrypt-v6.xsa', post_ap=True)"
   ]
  },
  {
   "cell_type": "code",
   "execution_count": 16,
   "id": "4e027d85",
   "metadata": {},
   "outputs": [
    {
     "name": "stdout",
     "output_type": "stream",
     "text": [
      "Results for bitstream ./pynqrypt-v6.xsa with size 16 b:\n",
      "FPGA: 0.15 ms\n",
      "CPU: 0.11 ms\n",
      "FPGA Throughput: 814.09 Kbps\n",
      "Results for bitstream ./pynqrypt-v6.xsa with size 1024 b:\n",
      "FPGA: 0.21 ms\n",
      "CPU: 0.21 ms\n",
      "FPGA Throughput: 36.90 Mbps\n",
      "Results for bitstream ./pynqrypt-v6.xsa with size 262144 b:\n",
      "FPGA: 24.72 ms\n",
      "CPU: 24.14 ms\n",
      "FPGA Throughput: 80.90 Mbps\n",
      "Results for bitstream ./pynqrypt-v6.xsa with size 16777216 b:\n",
      "FPGA: 1573.01 ms\n",
      "CPU: 1644.07 ms\n",
      "FPGA Throughput: 81.37 Mbps\n"
     ]
    }
   ],
   "source": [
    "tester.run_bench_suite()"
   ]
  },
  {
   "cell_type": "code",
   "execution_count": 17,
   "id": "42850680",
   "metadata": {},
   "outputs": [],
   "source": [
    "tester = PynqryptTester('./pynqrypt-v7.xsa', post_ap=True)"
   ]
  },
  {
   "cell_type": "code",
   "execution_count": 18,
   "id": "3412519c",
   "metadata": {},
   "outputs": [
    {
     "name": "stdout",
     "output_type": "stream",
     "text": [
      "Results for bitstream ./pynqrypt-v7.xsa with size 16 b:\n",
      "FPGA: 0.16 ms\n",
      "CPU: 0.12 ms\n",
      "FPGA Throughput: 768.35 Kbps\n",
      "Results for bitstream ./pynqrypt-v7.xsa with size 1024 b:\n",
      "FPGA: 0.22 ms\n",
      "CPU: 0.21 ms\n",
      "FPGA Throughput: 35.65 Mbps\n",
      "Results for bitstream ./pynqrypt-v7.xsa with size 262144 b:\n",
      "FPGA: 19.16 ms\n",
      "CPU: 24.88 ms\n",
      "FPGA Throughput: 104.40 Mbps\n",
      "Results for bitstream ./pynqrypt-v7.xsa with size 16777216 b:\n",
      "FPGA: 1216.49 ms\n",
      "CPU: 1644.51 ms\n",
      "FPGA Throughput: 105.22 Mbps\n"
     ]
    }
   ],
   "source": [
    "tester.run_bench_suite()"
   ]
  },
  {
   "cell_type": "code",
   "execution_count": 19,
   "id": "ac68d364",
   "metadata": {},
   "outputs": [],
   "source": [
    "tester = PynqryptTester('./pynqrypt-v8.xsa', post_ap=True)"
   ]
  },
  {
   "cell_type": "code",
   "execution_count": 20,
   "id": "1dd161c3",
   "metadata": {},
   "outputs": [
    {
     "name": "stdout",
     "output_type": "stream",
     "text": [
      "Results for bitstream ./pynqrypt-v8.xsa with size 16 b:\n",
      "FPGA: 0.16 ms\n",
      "CPU: 0.11 ms\n",
      "FPGA Throughput: 775.74 Kbps\n",
      "Results for bitstream ./pynqrypt-v8.xsa with size 1024 b:\n",
      "FPGA: 0.15 ms\n",
      "CPU: 0.21 ms\n",
      "FPGA Throughput: 50.84 Mbps\n",
      "Results for bitstream ./pynqrypt-v8.xsa with size 262144 b:\n",
      "FPGA: 7.60 ms\n",
      "CPU: 24.32 ms\n",
      "FPGA Throughput: 263.28 Mbps\n",
      "Results for bitstream ./pynqrypt-v8.xsa with size 16777216 b:\n",
      "FPGA: 475.91 ms\n",
      "CPU: 1641.55 ms\n",
      "FPGA Throughput: 268.96 Mbps\n"
     ]
    }
   ],
   "source": [
    "tester.run_bench_suite()"
   ]
  },
  {
   "cell_type": "code",
   "execution_count": 18,
   "id": "ec8f06d7",
   "metadata": {},
   "outputs": [],
   "source": [
    "tester = PynqryptTester('./pynqrypt-v9.1.xsa', post_ap=True)"
   ]
  },
  {
   "cell_type": "code",
   "execution_count": 22,
   "id": "c09096d6",
   "metadata": {},
   "outputs": [
    {
     "name": "stdout",
     "output_type": "stream",
     "text": [
      "Results for bitstream ./pynqrypt-v9.1.xsa with size 16 b:\n",
      "FPGA: 0.15 ms\n",
      "CPU: 0.11 ms\n",
      "FPGA Throughput: 814.54 Kbps\n",
      "Results for bitstream ./pynqrypt-v9.1.xsa with size 1024 b:\n",
      "FPGA: 0.14 ms\n",
      "CPU: 0.20 ms\n",
      "FPGA Throughput: 53.93 Mbps\n",
      "Results for bitstream ./pynqrypt-v9.1.xsa with size 262144 b:\n",
      "FPGA: 6.80 ms\n",
      "CPU: 24.32 ms\n",
      "FPGA Throughput: 293.91 Mbps\n",
      "Results for bitstream ./pynqrypt-v9.1.xsa with size 16777216 b:\n",
      "FPGA: 427.36 ms\n",
      "CPU: 1639.08 ms\n",
      "FPGA Throughput: 299.51 Mbps\n"
     ]
    }
   ],
   "source": [
    "tester.run_bench_suite()"
   ]
  },
  {
   "cell_type": "code",
   "execution_count": 20,
   "id": "e065794e",
   "metadata": {},
   "outputs": [],
   "source": [
    "tester = PynqryptTester('./pynqrypt-final.xsa', post_ap=True)"
   ]
  },
  {
   "cell_type": "code",
   "execution_count": 24,
   "id": "5a0dc051",
   "metadata": {},
   "outputs": [
    {
     "name": "stdout",
     "output_type": "stream",
     "text": [
      "Results for bitstream ./pynqrypt-final.xsa with size 16 b:\n",
      "FPGA: 0.16 ms\n",
      "CPU: 0.11 ms\n",
      "FPGA Throughput: 796.48 Kbps\n",
      "Results for bitstream ./pynqrypt-final.xsa with size 1024 b:\n",
      "FPGA: 0.15 ms\n",
      "CPU: 0.20 ms\n",
      "FPGA Throughput: 53.06 Mbps\n",
      "Results for bitstream ./pynqrypt-final.xsa with size 262144 b:\n",
      "FPGA: 5.91 ms\n",
      "CPU: 24.49 ms\n",
      "FPGA Throughput: 338.16 Mbps\n",
      "Results for bitstream ./pynqrypt-final.xsa with size 16777216 b:\n",
      "FPGA: 369.10 ms\n",
      "CPU: 1638.46 ms\n",
      "FPGA Throughput: 346.79 Mbps\n"
     ]
    }
   ],
   "source": [
    "tester.run_bench_suite()"
   ]
  },
  {
   "cell_type": "code",
   "execution_count": 27,
   "id": "2441989f",
   "metadata": {},
   "outputs": [],
   "source": [
    "tester = PynqryptTester('./pynqrypt-final-v2.xsa', post_ap=True)"
   ]
  },
  {
   "cell_type": "code",
   "execution_count": 26,
   "id": "aa7ea003",
   "metadata": {},
   "outputs": [
    {
     "name": "stdout",
     "output_type": "stream",
     "text": [
      "Results for bitstream ./pynqrypt-final-v2.xsa with size 16 b:\n",
      "FPGA: 0.16 ms\n",
      "CPU: 0.11 ms\n",
      "FPGA Throughput: 804.07 Kbps\n",
      "Results for bitstream ./pynqrypt-final-v2.xsa with size 1024 b:\n",
      "FPGA: 0.15 ms\n",
      "CPU: 0.20 ms\n",
      "FPGA Throughput: 53.46 Mbps\n",
      "Results for bitstream ./pynqrypt-final-v2.xsa with size 262144 b:\n",
      "FPGA: 5.44 ms\n",
      "CPU: 24.41 ms\n",
      "FPGA Throughput: 367.77 Mbps\n",
      "Results for bitstream ./pynqrypt-final-v2.xsa with size 16777216 b:\n",
      "FPGA: 338.40 ms\n",
      "CPU: 1636.12 ms\n",
      "FPGA Throughput: 378.25 Mbps\n"
     ]
    }
   ],
   "source": [
    "tester.run_bench_suite()"
   ]
  },
  {
   "cell_type": "code",
   "execution_count": 25,
   "id": "d593f08c",
   "metadata": {},
   "outputs": [],
   "source": [
    "tester = PynqryptTester('./pynqrypt-final-v3.xsa', post_ap=True)"
   ]
  },
  {
   "cell_type": "code",
   "execution_count": 28,
   "id": "7f9d818e",
   "metadata": {},
   "outputs": [
    {
     "name": "stdout",
     "output_type": "stream",
     "text": [
      "Results for bitstream ./pynqrypt-final-v3.xsa with size 16 b:\n",
      "FPGA: 0.15 ms\n",
      "CPU: 0.10 ms\n",
      "FPGA Throughput: 831.11 Kbps\n",
      "Results for bitstream ./pynqrypt-final-v3.xsa with size 1024 b:\n",
      "FPGA: 0.15 ms\n",
      "CPU: 0.20 ms\n",
      "FPGA Throughput: 52.99 Mbps\n",
      "Results for bitstream ./pynqrypt-final-v3.xsa with size 262144 b:\n",
      "FPGA: 4.66 ms\n",
      "CPU: 24.25 ms\n",
      "FPGA Throughput: 428.98 Mbps\n",
      "Results for bitstream ./pynqrypt-final-v3.xsa with size 16777216 b:\n",
      "FPGA: 290.04 ms\n",
      "CPU: 1638.11 ms\n",
      "FPGA Throughput: 441.31 Mbps\n"
     ]
    }
   ],
   "source": [
    "tester.run_bench_suite()"
   ]
  }
 ],
 "metadata": {
  "kernelspec": {
   "display_name": "Python 3 (ipykernel)",
   "language": "python",
   "name": "python3"
  },
  "language_info": {
   "codemirror_mode": {
    "name": "ipython",
    "version": 3
   },
   "file_extension": ".py",
   "mimetype": "text/x-python",
   "name": "python",
   "nbconvert_exporter": "python",
   "pygments_lexer": "ipython3",
   "version": "3.10.4"
  }
 },
 "nbformat": 4,
 "nbformat_minor": 5
}

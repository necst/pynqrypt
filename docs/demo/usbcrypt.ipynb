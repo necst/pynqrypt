{
 "cells": [
  {
   "cell_type": "code",
   "execution_count": 79,
   "id": "ddf41524",
   "metadata": {},
   "outputs": [],
   "source": [
    "import pynq\n",
    "import numpy as np\n",
    "import time\n",
    "\n",
    "class Pynqrypt:\n",
    "    \n",
    "    def __init__(self, file, post_ap=False):\n",
    "        self.overlay = pynq.Overlay(file)\n",
    "        self.ip = self.overlay.pynqrypt_encrypt_0\n",
    "        self.reg_map = self.ip.register_map\n",
    "        self.post_ap = post_ap\n",
    "        if not post_ap:\n",
    "            self.key_mmio = pynq.MMIO(self.ip.mmio.base_addr + self.reg_map.Memory_key.address, 16 * 8)\n",
    "            self.nonce_mmio = pynq.MMIO(self.ip.mmio.base_addr + self.reg_map.Memory_nonce.address, 12 * 8)\n",
    "        self.length = 0\n",
    "        \n",
    "    \n",
    "    def set_key(self, key: bytes):\n",
    "        if not self.post_ap:\n",
    "            for i in range(4):\n",
    "                self.key_mmio.write(4 * i, key[i * 4: (i + 1) * 4])\n",
    "        else:\n",
    "            key = int.from_bytes(key, 'big')\n",
    "            self.reg_map.key_1 = (key) & (2**32 - 1)\n",
    "            self.reg_map.key_2 = (key >> 32) & (2**32 - 1)\n",
    "            self.reg_map.key_3 = (key >> 64) & (2**32 - 1)\n",
    "            self.reg_map.key_4 = (key >> 96) & (2**32 - 1)            \n",
    "\n",
    "    def set_nonce(self, nonce: bytes):\n",
    "        if not self.post_ap:\n",
    "            for i in range(3):\n",
    "                self.nonce_mmio.write(4 * i, nonce[i * 4: (i + 1) * 4])\n",
    "        else:\n",
    "            nonce = int.from_bytes(nonce, 'big')\n",
    "            self.reg_map.nonce_1 = (nonce) & (2**32 - 1)\n",
    "            self.reg_map.nonce_2 = (nonce >> 32) & (2**32 - 1)\n",
    "            self.reg_map.nonce_3 = (nonce >> 64) & (2**32 - 1)\n",
    "            \n",
    "    def set_length(self, length: int):\n",
    "        self.reg_map.plaintext_length_1 = length \n",
    "        self.length = length\n",
    "        \n",
    "    def get_length(self) -> int:\n",
    "        return self.reg_map.plaintext_length_1\n",
    "    \n",
    "    def get_input_array(self):\n",
    "        buff = pynq.allocate(self.length, np.uint8)\n",
    "        self.inbuff = buff\n",
    "        return buff\n",
    "    \n",
    "    def get_output_array(self):\n",
    "        buff = pynq.allocate(self.length, np.uint8)\n",
    "        self.outbuff = buff\n",
    "        return buff\n",
    "    \n",
    "    def prepare(self):\n",
    "        self.inbuff.flush()\n",
    "        self.reg_map.plaintext_1 = self.inbuff.physical_address\n",
    "        self.reg_map.ciphertext_1 = self.outbuff.physical_address\n",
    "    \n",
    "    def run_blocking(self):\n",
    "        if not self.reg_map.CTRL.AP_IDLE:\n",
    "            return\n",
    "        self.reg_map.CTRL.AP_START = 1\n",
    "        while not self.reg_map.CTRL.AP_DONE:\n",
    "            continue\n",
    "            \n",
    "    def run_blocking_timed(self):\n",
    "        if not self.reg_map.CTRL.AP_IDLE:\n",
    "            return\n",
    "        \n",
    "        time_start = time.perf_counter_ns()\n",
    "        self.reg_map.CTRL.AP_START = 1\n",
    "        while not self.reg_map.CTRL.AP_DONE:\n",
    "            continue\n",
    "        time_stop = time.perf_counter_ns()\n",
    "        \n",
    "        return (time_start, time_stop)\n",
    "        \n",
    "    def cleanup(self):\n",
    "        del self.outbuff\n",
    "        del self.inbuff\n",
    "        "
   ]
  },
  {
   "cell_type": "code",
   "execution_count": 80,
   "id": "bab642f8",
   "metadata": {},
   "outputs": [],
   "source": [
    "from Crypto.Cipher import AES\n",
    "import os\n",
    "import time\n",
    "\n",
    "class USBCrypt:\n",
    "    \n",
    "    def __init__(self, location='/media/demo/files'):\n",
    "        self.location = location\n",
    "        self.key = b'0123456789abcdef'\n",
    "        self.nonce = b'0123456789ab'\n",
    "        self.pynqrypt = Pynqrypt(file='./pynqrypt-final-v3.xsa', post_ap=True)\n",
    "        self.cipher = AES.new(self.key, AES.MODE_CTR, nonce=self.nonce)\n",
    "        self.pynqrypt.set_key(self.key)\n",
    "        self.pynqrypt.set_nonce(self.nonce)\n",
    "        \n",
    "    def reset_cipher(self):\n",
    "        self.cipher = AES.new(self.key, AES.MODE_CTR, nonce=self.nonce)    \n",
    "    \n",
    "    def decrypt_files(self, accel=True):\n",
    "        self.encrypt_files(accel, is_encrypt=False)\n",
    "            \n",
    "    def encrypt_files(self, accel=True, is_encrypt=True):\n",
    "        with os.scandir(self.location) as entries:\n",
    "            for entry in entries:\n",
    "                start = time.perf_counter_ns()\n",
    "                \n",
    "                if accel:\n",
    "                    self.hw_encrypt_file(entry)\n",
    "                else:\n",
    "                    self.sw_encrypt_file(entry)\n",
    "                    self.reset_cipher()\n",
    "                \n",
    "                end = time.perf_counter_ns()\n",
    "                \n",
    "                total = (end - start) / 1e9\n",
    "                \n",
    "                if is_encrypt:\n",
    "                    print(f'Encrypted file \"{entry.name}\" in {total:.3f} seconds')\n",
    "                else:\n",
    "                    print(f'Decrypted file \"{entry.name}\" in {total:.3f} seconds')\n",
    "    \n",
    "    def hw_encrypt_file(self, filename):\n",
    "        data = np.fromfile(filename, np.uint8)\n",
    "        \n",
    "        orig_len = len(data)\n",
    "        \n",
    "        data = np.pad(data, (0, (16 - orig_len % 16)), 'constant', constant_values=(0, 0))\n",
    "        \n",
    "        self.pynqrypt.set_length(len(data))\n",
    "        \n",
    "        input_arr = self.pynqrypt.get_input_array()\n",
    "        \n",
    "        input_arr[:] = data[:]\n",
    "        \n",
    "        out_arr = self.pynqrypt.get_output_array()\n",
    "        \n",
    "        self.pynqrypt.prepare()\n",
    "        self.pynqrypt.run_blocking()\n",
    "        \n",
    "        out_arr.invalidate()\n",
    "        \n",
    "        with open(filename, 'wb') as f:\n",
    "            f.write(bytes(out_arr)[:orig_len])\n",
    "            \n",
    "        self.pynqrypt.cleanup()\n",
    "        del data\n",
    "        del input_arr\n",
    "        del out_arr\n",
    "    \n",
    "    def sw_encrypt_file(self, filename):\n",
    "        with open(filename, 'rb') as f:\n",
    "            data = f.read()\n",
    "            \n",
    "        data = self.cipher.encrypt(data)\n",
    "        \n",
    "        with open(filename, 'wb') as f:\n",
    "            f.write(data)\n",
    "            \n",
    "        del data"
   ]
  },
  {
   "cell_type": "code",
   "execution_count": 81,
   "id": "c686f245",
   "metadata": {},
   "outputs": [],
   "source": [
    "usbcrypt = USBCrypt()"
   ]
  },
  {
   "cell_type": "code",
   "execution_count": 82,
   "id": "d0ee29db",
   "metadata": {},
   "outputs": [
    {
     "name": "stdout",
     "output_type": "stream",
     "text": [
      "Encrypted file \"02 - Canzone del maggio (Liberamente tratta da un canto del maggio francese 1968).flac\" in 1.562 seconds\n",
      "Encrypted file \"13 - Minimoog.flac\" in 1.071 seconds\n",
      "Encrypted file \"Alla Ricerca Del Tempo Perduto.epub\" in 0.349 seconds\n",
      "Encrypted file \"IMG_20221224_221202.jpg\" in 0.639 seconds\n",
      "Encrypted file \"report.pdf\" in 0.029 seconds\n",
      "Encrypted file \"secret password\" in 0.005 seconds\n"
     ]
    }
   ],
   "source": [
    "usbcrypt.encrypt_files()"
   ]
  },
  {
   "cell_type": "code",
   "execution_count": 83,
   "id": "5a367796",
   "metadata": {},
   "outputs": [
    {
     "name": "stdout",
     "output_type": "stream",
     "text": [
      "Decrypted file \"02 - Canzone del maggio (Liberamente tratta da un canto del maggio francese 1968).flac\" in 1.225 seconds\n",
      "Decrypted file \"13 - Minimoog.flac\" in 0.888 seconds\n",
      "Decrypted file \"Alla Ricerca Del Tempo Perduto.epub\" in 0.297 seconds\n",
      "Decrypted file \"IMG_20221224_221202.jpg\" in 0.329 seconds\n",
      "Decrypted file \"report.pdf\" in 0.030 seconds\n",
      "Decrypted file \"secret password\" in 0.006 seconds\n"
     ]
    }
   ],
   "source": [
    "usbcrypt.decrypt_files()"
   ]
  },
  {
   "cell_type": "code",
   "execution_count": 84,
   "id": "40ca3337",
   "metadata": {},
   "outputs": [
    {
     "name": "stdout",
     "output_type": "stream",
     "text": [
      "Encrypted file \"02 - Canzone del maggio (Liberamente tratta da un canto del maggio francese 1968).flac\" in 1.946 seconds\n",
      "Encrypted file \"13 - Minimoog.flac\" in 1.771 seconds\n",
      "Encrypted file \"Alla Ricerca Del Tempo Perduto.epub\" in 0.487 seconds\n",
      "Encrypted file \"IMG_20221224_221202.jpg\" in 0.874 seconds\n",
      "Encrypted file \"report.pdf\" in 0.041 seconds\n",
      "Encrypted file \"secret password\" in 0.002 seconds\n"
     ]
    }
   ],
   "source": [
    "usbcrypt.encrypt_files(accel=False)"
   ]
  },
  {
   "cell_type": "code",
   "execution_count": 85,
   "id": "97efd529",
   "metadata": {},
   "outputs": [
    {
     "name": "stdout",
     "output_type": "stream",
     "text": [
      "Decrypted file \"02 - Canzone del maggio (Liberamente tratta da un canto del maggio francese 1968).flac\" in 2.042 seconds\n",
      "Decrypted file \"13 - Minimoog.flac\" in 2.031 seconds\n",
      "Decrypted file \"Alla Ricerca Del Tempo Perduto.epub\" in 0.477 seconds\n",
      "Decrypted file \"IMG_20221224_221202.jpg\" in 0.554 seconds\n",
      "Decrypted file \"report.pdf\" in 0.042 seconds\n",
      "Decrypted file \"secret password\" in 0.001 seconds\n"
     ]
    }
   ],
   "source": [
    "usbcrypt.decrypt_files(accel=False)"
   ]
  },
  {
   "cell_type": "code",
   "execution_count": 86,
   "id": "f7d6e59d",
   "metadata": {},
   "outputs": [
    {
     "name": "stdout",
     "output_type": "stream",
     "text": [
      "Encrypted file \"02 - Canzone del maggio (Liberamente tratta da un canto del maggio francese 1968).flac\" in 1.192 seconds\n",
      "Encrypted file \"13 - Minimoog.flac\" in 0.879 seconds\n",
      "Encrypted file \"Alla Ricerca Del Tempo Perduto.epub\" in 0.293 seconds\n",
      "Encrypted file \"IMG_20221224_221202.jpg\" in 0.435 seconds\n",
      "Encrypted file \"report.pdf\" in 0.028 seconds\n",
      "Encrypted file \"secret password\" in 0.007 seconds\n"
     ]
    }
   ],
   "source": [
    "usbcrypt.encrypt_files()"
   ]
  },
  {
   "cell_type": "code",
   "execution_count": 87,
   "id": "28c2b276",
   "metadata": {},
   "outputs": [
    {
     "name": "stdout",
     "output_type": "stream",
     "text": [
      "Decrypted file \"02 - Canzone del maggio (Liberamente tratta da un canto del maggio francese 1968).flac\" in 1.935 seconds\n",
      "Decrypted file \"13 - Minimoog.flac\" in 1.450 seconds\n",
      "Decrypted file \"Alla Ricerca Del Tempo Perduto.epub\" in 0.492 seconds\n",
      "Decrypted file \"IMG_20221224_221202.jpg\" in 0.922 seconds\n",
      "Decrypted file \"report.pdf\" in 0.041 seconds\n",
      "Decrypted file \"secret password\" in 0.001 seconds\n"
     ]
    }
   ],
   "source": [
    "usbcrypt.decrypt_files(accel=False)"
   ]
  },
  {
   "cell_type": "code",
   "execution_count": null,
   "id": "f714d9f7",
   "metadata": {},
   "outputs": [],
   "source": []
  }
 ],
 "metadata": {
  "kernelspec": {
   "display_name": "Python 3 (ipykernel)",
   "language": "python",
   "name": "python3"
  },
  "language_info": {
   "codemirror_mode": {
    "name": "ipython",
    "version": 3
   },
   "file_extension": ".py",
   "mimetype": "text/x-python",
   "name": "python",
   "nbconvert_exporter": "python",
   "pygments_lexer": "ipython3",
   "version": "3.10.4"
  }
 },
 "nbformat": 4,
 "nbformat_minor": 5
}
